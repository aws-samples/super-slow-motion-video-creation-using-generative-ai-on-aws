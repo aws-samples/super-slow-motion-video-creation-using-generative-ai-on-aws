{
 "cells": [
  {
   "cell_type": "markdown",
   "id": "b3a389c0-3aeb-41a3-b487-20210827914e",
   "metadata": {},
   "source": [
    "# Super SLO-MO with FILM model\n",
    "\n",
    "## Environment\n",
    "\n",
    "Make sure that you are using the following enviornment:\n",
    "\n",
    "| Field | Value |\n",
    "| :--- | :---------- |\n",
    "| Instance type | ml.g4dn.xlarge (Note: other g4/g5 instance works) |\n",
    "| Kernel | Python 3 |"
   ]
  },
  {
   "cell_type": "markdown",
   "id": "c878b1f2-61e6-48f5-a9b7-b15596403b07",
   "metadata": {},
   "source": [
    "### > Setup\n",
    "\n",
    "Installs the dependencies required to process your video.\n"
   ]
  },
  {
   "cell_type": "code",
   "execution_count": null,
   "id": "f43a10de-ca17-4f1f-891c-868b89e670ed",
   "metadata": {
    "scrolled": true
   },
   "outputs": [],
   "source": [
    "%%sh\n",
    "sudo apt-get update && sudo apt upgrade -y\n",
    "\n",
    "sudo apt-get install ffmpeg -y\n",
    "\n",
    "pip install -U sagemaker"
   ]
  },
  {
   "cell_type": "code",
   "execution_count": null,
   "id": "21275984-75fe-46b1-a95b-543241fa5f96",
   "metadata": {
    "tags": []
   },
   "outputs": [],
   "source": [
    "import sagemaker\n",
    "from sagemaker.utils import name_from_base\n",
    "import time\n",
    "import shutil\n",
    "import helper\n",
    "import os\n",
    "import json\n",
    "import boto3\n",
    "\n",
    "sagemaker_session = sagemaker.Session()\n",
    "role = sagemaker.get_execution_role()  # execution role for the endpoint\n",
    "region = sagemaker_session._region_name\n",
    "\n",
    "default_bucket = sagemaker_session.default_bucket()\n",
    "\n",
    "prefix = \"slow-mo\"\n",
    "inference_prefix = f\"{prefix}/inference\""
   ]
  },
  {
   "cell_type": "markdown",
   "id": "77837a9a-4e0f-490d-942a-8eeb1143e447",
   "metadata": {
    "tags": []
   },
   "source": [
    "### > Download pretrained models"
   ]
  },
  {
   "cell_type": "code",
   "execution_count": null,
   "id": "bdd05e1e-99ba-4c3f-8fe5-3a2c7e1c3e0d",
   "metadata": {
    "tags": []
   },
   "outputs": [],
   "source": [
    "CDN_URL = \"https://d2yqlwoly7fl0b.cloudfront.net/super-slomo\"\n",
    "\n",
    "model_path = \"slow_mo_generator/model\"\n",
    "\n",
    "# download pretrained model and unzip it to source/pretrained_model folder\n",
    "\n",
    "PRETRAINED_MODEL = \"Style-20230929T132001Z-001.zip\"\n",
    "!wget -L {CDN_URL}/pretrained_models/{PRETRAINED_MODEL} -O {PRETRAINED_MODEL}\n",
    "!unzip Style-20230929T132001Z-001.zip -d {model_path}\n",
    "\n",
    "#\n",
    "# download sample video file\n",
    "#\n",
    "SAMPLE_VIDEO = \"westiepoo.mov\"\n",
    "!wget -L {CDN_URL}/samples/{SAMPLE_VIDEO} -O {SAMPLE_VIDEO}"
   ]
  },
  {
   "cell_type": "markdown",
   "id": "9366169c-c1ea-49f8-acac-0bf3d277fd84",
   "metadata": {},
   "source": [
    "### > Setup Deep Java Library (DJL) Container\n",
    "\n",
    "We will be using SageMaker Async inference and SageMaker managed Deep Java Library (DJL) container to generate slow-mo frames\n",
    "\n",
    "Even though Async Endpoint is designed for large payload (up to 1GB), long running process (up to one hour), and near real-time inference. We can take advantages of it’s built-in queue and notification for real-time training requests. As long as our workload stays within the payload the processing time limits. Eliminate the need to self manage using additional components.\n",
    "\n",
    "We also chose DJLServing because the SageMaker managed inference container already has many of the training libraries we need, such as Transformers, Accelerate, and s5cmd."
   ]
  },
  {
   "cell_type": "code",
   "execution_count": null,
   "id": "65288667-5a92-4a73-b752-1ec122b0ea7a",
   "metadata": {
    "tags": []
   },
   "outputs": [],
   "source": [
    "inference_image_uri = (\n",
    "    f\"763104351884.dkr.ecr.{region}.amazonaws.com/djl-inference:0.21.0-deepspeed0.8.3-cu117\"\n",
    ")\n",
    "print(f\"Image going to be used is ---- > {inference_image_uri}\")"
   ]
  },
  {
   "cell_type": "markdown",
   "id": "45e2b5dd-4b61-4502-9360-dfaf64d76f0a",
   "metadata": {},
   "source": [
    "Push the parameter into `serving.properties` file"
   ]
  },
  {
   "cell_type": "code",
   "execution_count": null,
   "id": "bf2c8e68-3e96-4fd1-a1a3-9cb66ac2905a",
   "metadata": {
    "tags": []
   },
   "outputs": [],
   "source": [
    "!sed -i 's@option.s3_bucket=.*@option.s3_bucket={default_bucket}@g' slow_mo_generator/serving.properties\n",
    "!sed -i 's@option.s3_prefix=.*@option.s3_prefix={inference_prefix}@g' slow_mo_generator/serving.properties"
   ]
  },
  {
   "cell_type": "code",
   "execution_count": null,
   "id": "ef1ae9f9-0cb1-4f5f-9151-3600214bde53",
   "metadata": {
    "tags": []
   },
   "outputs": [],
   "source": [
    "!pygmentize slow_mo_generator/serving.properties | cat -n"
   ]
  },
  {
   "cell_type": "markdown",
   "id": "fac72de3-4b62-4066-9e39-fa4d3ea301b3",
   "metadata": {},
   "source": [
    "Package the model for DJLServe on SageMaker"
   ]
  },
  {
   "cell_type": "code",
   "execution_count": null,
   "id": "c68bbf06-11dd-495f-89c4-19d7ed5ace36",
   "metadata": {
    "tags": []
   },
   "outputs": [],
   "source": [
    "!rm -rf `find -type d -name .ipynb_checkpoints`"
   ]
  },
  {
   "cell_type": "code",
   "execution_count": null,
   "id": "8b2c70bd-70ad-47c6-851a-efc3e3942937",
   "metadata": {
    "tags": []
   },
   "outputs": [],
   "source": [
    "!find . | grep -E \"(/__pycache__$|\\.pyc$|\\.pyo$)\" | xargs rm -rf"
   ]
  },
  {
   "cell_type": "code",
   "execution_count": null,
   "id": "a4d8c065-a36a-48dc-8f45-1a47f49f299c",
   "metadata": {
    "tags": []
   },
   "outputs": [],
   "source": [
    "!tar czvf model.tar.gz slow_mo_generator/"
   ]
  },
  {
   "cell_type": "code",
   "execution_count": null,
   "id": "792e3064-4c5a-4cae-839d-8d3d79fa4438",
   "metadata": {
    "tags": []
   },
   "outputs": [],
   "source": [
    "inference_artifact = sagemaker_session.upload_data(\"model.tar.gz\", default_bucket, f\"{prefix}/inference\")\n",
    "print(f\"S3 Code or Model tar ball uploaded to --- > {inference_artifact}\")"
   ]
  },
  {
   "cell_type": "markdown",
   "id": "e878dd59-23d3-4bef-a3c6-2ae3df72304a",
   "metadata": {},
   "source": [
    "### > Create A Sagemaker Asynchronous Endpoint\n",
    "\n",
    "Create a function to package the container information, model files, and the IAM role into a single SageMaker model. Then deploy that model."
   ]
  },
  {
   "cell_type": "code",
   "execution_count": null,
   "id": "91977ac3-bd0e-42c9-83ab-f92c2a183eeb",
   "metadata": {
    "tags": []
   },
   "outputs": [],
   "source": [
    "from sagemaker.model import Model\n",
    "from sagemaker.async_inference.async_inference_config import AsyncInferenceConfig\n",
    "\n",
    "def deploy_model(image_uri, model_data, role, endpoint_name, instance_type, env, sagemaker_session, async_inference_config):\n",
    "    \n",
    "    \"\"\"Helper function to create the SageMaker Endpoint resources and return a predictor\"\"\"\n",
    "    \n",
    "    model = Model(\n",
    "            image_uri=image_uri, \n",
    "              model_data=model_data, \n",
    "              role=role,\n",
    "              env=env\n",
    "             )\n",
    "    \n",
    "    model.deploy(\n",
    "        initial_instance_count=1,\n",
    "        instance_type=instance_type,\n",
    "        endpoint_name=endpoint_name,\n",
    "        async_inference_config=async_inference_config\n",
    "        )\n",
    "    \n",
    "    predictor = sagemaker.Predictor(\n",
    "        endpoint_name=endpoint_name, \n",
    "        sagemaker_session=sagemaker_session\n",
    "    )\n",
    "    \n",
    "    return predictor"
   ]
  },
  {
   "cell_type": "markdown",
   "id": "dbf5f0ef-98de-4a0a-b45b-954c6293b43a",
   "metadata": {},
   "source": [
    "Create an endpoint configuration that defines how our Async Inference will be served."
   ]
  },
  {
   "cell_type": "code",
   "execution_count": null,
   "id": "5dd5fb6a-a81a-44a7-8049-3c813effb55f",
   "metadata": {
    "tags": []
   },
   "outputs": [],
   "source": [
    "# create async endpoint configuration\n",
    "async_config = AsyncInferenceConfig(\n",
    "    output_path=f\"s3://{default_bucket}/{prefix}/async_inference/output\" , # Where our results will be stored\n",
    "    max_concurrent_invocations_per_instance=1,\n",
    "    # notification_config={\n",
    "            #   \"SuccessTopic\": \"arn:aws:sns:us-east-2:123456789012:MyTopic\",\n",
    "            #   \"ErrorTopic\": \"arn:aws:sns:us-east-2:123456789012:MyTopic\",\n",
    "    # }, #  Notification configuration\n",
    ")"
   ]
  },
  {
   "cell_type": "code",
   "execution_count": null,
   "id": "af5ba7bc-36e9-4c4d-af6a-993b4b3dd202",
   "metadata": {
    "tags": []
   },
   "outputs": [],
   "source": [
    "endpoint_name = sagemaker.utils.name_from_base(\"slow-mo\")\n",
    "slow_mo_inference = deploy_model(image_uri=inference_image_uri,\n",
    "                            model_data=inference_artifact,\n",
    "                            role=role,\n",
    "                            endpoint_name=endpoint_name, \n",
    "                            instance_type=\"ml.g5.4xlarge\", \n",
    "                            sagemaker_session=sagemaker_session,\n",
    "                            env={\n",
    "                                'SERVING_MAX_REQUEST_SIZE': '1000000000',\n",
    "                                \"PREDICT_TIMEOUT\": \"3600\", \n",
    "                                \"MODEL_LOADING_TIMEOUT\": \"3600\"\n",
    "                            },\n",
    "                            async_inference_config=async_config)"
   ]
  },
  {
   "cell_type": "markdown",
   "id": "39436d20-1dd1-41ef-8ab0-838a6627ae56",
   "metadata": {},
   "source": [
    "### > Setup AutoScaling Policy (Optional)\n",
    "\n",
    "This section describes how to configure autoscaling on your asynchronous endpoint using Application Autoscaling. You need to first register your endpoint variant with Application Autoscaling, define a scaling policy."
   ]
  },
  {
   "cell_type": "code",
   "execution_count": null,
   "id": "84b2c455-dc98-4be2-944d-7dcd0ea7256a",
   "metadata": {},
   "outputs": [],
   "source": [
    "client = boto3.client(\n",
    "    \"application-autoscaling\"\n",
    ")  # Common class representing Application Auto Scaling for SageMaker amongst other services\n",
    "\n",
    "resource_id = (\n",
    "    \"endpoint/\" + endpoint_name + \"/variant/\" + \"AllTraffic\"\n",
    ")  # This is the format in which application autoscaling references the endpoint\n",
    "\n",
    "# Configure Autoscaling on asynchronous endpoint down to zero instances\n",
    "response = client.register_scalable_target(\n",
    "    ServiceNamespace=\"sagemaker\",\n",
    "    ResourceId=resource_id,\n",
    "    ScalableDimension=\"sagemaker:variant:DesiredInstanceCount\",\n",
    "    MinCapacity=0,\n",
    "    MaxCapacity=5,\n",
    ")\n",
    "\n",
    "response = client.put_scaling_policy(\n",
    "    PolicyName=f\"{name_from_base(prefix)}-invoc-scaling\",\n",
    "    ServiceNamespace=\"sagemaker\",  # The namespace of the AWS service that provides the resource.\n",
    "    ResourceId=resource_id,  # Endpoint name\n",
    "    ScalableDimension=\"sagemaker:variant:DesiredInstanceCount\",  # SageMaker supports only Instance Count\n",
    "    PolicyType=\"TargetTrackingScaling\",  # 'StepScaling'|'TargetTrackingScaling'\n",
    "    TargetTrackingScalingPolicyConfiguration={\n",
    "        \"TargetValue\": 5.0,  # The target value for the metric. - here the metric is - SageMakerVariantInvocationsPerInstance\n",
    "        \"CustomizedMetricSpecification\": {\n",
    "            \"MetricName\": \"ApproximateBacklogSizePerInstance\",\n",
    "            \"Namespace\": \"AWS/SageMaker\",\n",
    "            \"Dimensions\": [{\"Name\": \"EndpointName\", \"Value\": endpoint_name}],\n",
    "            \"Statistic\": \"Average\",\n",
    "        },\n",
    "        \"ScaleInCooldown\": 600,  # The cooldown period helps you prevent your Auto Scaling group from launching or terminating\n",
    "        # additional instances before the effects of previous activities are visible.\n",
    "        # You can configure the length of time based on your instance startup time or other application needs.\n",
    "        # ScaleInCooldown - The amount of time, in seconds, after a scale in activity completes before another scale in activity can start.\n",
    "        \"ScaleOutCooldown\": 300  # ScaleOutCooldown - The amount of time, in seconds, after a scale out activity completes before another scale out activity can start.\n",
    "        # 'DisableScaleIn': True|False - ndicates whether scale in by the target tracking policy is disabled.\n",
    "        # If the value is true , scale in is disabled and the target tracking policy won't remove capacity from the scalable resource.\n",
    "    },\n",
    ")"
   ]
  },
  {
   "cell_type": "markdown",
   "id": "1cd113cd-05a2-41b0-9689-b568d0264fda",
   "metadata": {},
   "source": [
    "### > Define a scaling policy that scales up from zero for new requests (Optional)\n",
    "\n",
    "You might have a use case where you have sporadic requests or periods with low numbers of requests. If your endpoint has been scaled down to zero instances during these periods, then your endpoint won’t scale up again until the number of requests in the queue exceeds the target specified in your scaling policy. \n",
    "\n",
    "To create a scaling policy for your endpoint that scales up from zero instances, do the following:\n",
    "\n",
    "1) setup a policy when the queue is greater than zero and the current instance count for your endpoint is also zero, the policy scales your endpoint up.\n",
    "2) Create a CloudWatch alarm with the custom metric `HasBacklogWithoutCapacity`. When triggered, the alarm initiates the previously defined scaling policy. "
   ]
  },
  {
   "cell_type": "code",
   "execution_count": null,
   "id": "254a0b18-ff02-4122-a02a-39e74e52e70b",
   "metadata": {},
   "outputs": [],
   "source": [
    "# Create a ChangeInCapcity Policty\n",
    "response = client.put_scaling_policy(\n",
    "    PolicyName=f\"{name_from_base(prefix)}-zero-scaling\",\n",
    "    ServiceNamespace=\"sagemaker\",  # The namespace of the service that provides the resource.\n",
    "    ResourceId=resource_id,  # Endpoint name\n",
    "    ScalableDimension=\"sagemaker:variant:DesiredInstanceCount\",  # SageMaker supports only Instance Count\n",
    "    PolicyType=\"StepScaling\",  # 'StepScaling' or 'TargetTrackingScaling'\n",
    "    StepScalingPolicyConfiguration={\n",
    "        \"AdjustmentType\": \"ChangeInCapacity\", # Specifies whether the ScalingAdjustment value in the StepAdjustment property is an absolute number or a percentage of the current capacity. \n",
    "        \"MetricAggregationType\": \"Average\", # The aggregation type for the CloudWatch metrics.\n",
    "        \"Cooldown\": 300, # The amount of time, in seconds, to wait for a previous scaling activity to take effect. \n",
    "        \"StepAdjustments\": # A set of adjustments that enable you to scale based on the size of the alarm breach.\n",
    "        [ \n",
    "            {\n",
    "              \"MetricIntervalLowerBound\": 0,\n",
    "              \"ScalingAdjustment\": 1\n",
    "            }\n",
    "          ]\n",
    "    },    \n",
    ")\n",
    "\n",
    "step_scaling_policy_arn = response[\"PolicyARN\"]\n",
    "print(f\"Policy arn: {step_scaling_policy_arn}...\")\n",
    "\n",
    "# create a cloudWatch alarm\n",
    "cw_client = boto3.client('cloudwatch')\n",
    "\n",
    "response = cw_client.put_metric_alarm(\n",
    "    AlarmName=f\"{name_from_base(prefix)}-zero-scale-alarm\",\n",
    "    MetricName='HasBacklogWithoutCapacity',\n",
    "    Namespace='AWS/SageMaker',\n",
    "    Statistic='Average',\n",
    "    EvaluationPeriods= 2,\n",
    "    DatapointsToAlarm= 2,\n",
    "    Threshold= 1,\n",
    "    ComparisonOperator='GreaterThanOrEqualToThreshold',\n",
    "    TreatMissingData='missing',\n",
    "    Dimensions=[\n",
    "        { 'Name':'EndpointName', 'Value':endpoint_name },\n",
    "    ],\n",
    "    Period= 60,\n",
    "    AlarmActions=[step_scaling_policy_arn]\n",
    ")"
   ]
  },
  {
   "cell_type": "markdown",
   "id": "b06f74b9-0693-478c-8ef5-03c522b0bfbc",
   "metadata": {},
   "source": [
    "### > Prepare The Video\n",
    "\n",
    "This solution expects pre-extracted video frames as input, run inference (frame intepolation), and store the generated slow-mo frames in S3. input frames needs to be compressed into `tar.gz`."
   ]
  },
  {
   "cell_type": "code",
   "execution_count": null,
   "id": "9be8476d-4366-45a2-bee9-1b4ff0117376",
   "metadata": {},
   "outputs": [],
   "source": [
    "sm_runtime = boto3.client(\"sagemaker-runtime\")"
   ]
  },
  {
   "cell_type": "markdown",
   "id": "b027be75-33d8-4def-8bfc-9f0b8bea8bfd",
   "metadata": {},
   "source": [
    "### > Preview the video"
   ]
  },
  {
   "cell_type": "code",
   "execution_count": null,
   "id": "04b693b8-14ff-450b-bc88-92dd27503c2c",
   "metadata": {
    "tags": []
   },
   "outputs": [],
   "source": [
    "from IPython.display import Video\n",
    "Video(SAMPLE_VIDEO, width=640, height=360)"
   ]
  },
  {
   "cell_type": "markdown",
   "id": "32be36f6-0620-4329-8891-a0caff243495",
   "metadata": {},
   "source": [
    "Extract the frames"
   ]
  },
  {
   "cell_type": "code",
   "execution_count": null,
   "id": "d73e9d78-0110-4eb4-a84f-28216eb4dd87",
   "metadata": {
    "scrolled": true,
    "tags": []
   },
   "outputs": [],
   "source": [
    "frame_dir = helper.extract_frames(SAMPLE_VIDEO)\n",
    "\n",
    "!ls {frame_dir}"
   ]
  },
  {
   "cell_type": "markdown",
   "id": "64f45fc2-66ea-4a97-8672-d18e6d3aa20b",
   "metadata": {},
   "source": [
    "### > Set configuration parameters for the inference job\n",
    "\n",
    "| Parameter | Value | Description |\n",
    "| :--- | :---------- | :---- |\n",
    "| ALIGN | 64 | padding the height and width to align to the boundary |\n",
    "| BLOCK_HEIGHT | 1 | breaking the image height into smaller blocks if the image is very large |\n",
    "| BLOCK_WIDTH | 1 | breaking the image width into smaller blocks if the image is very large |\n",
    "| TIME_TO_INTERPOLATE | 2 | numbers of interpolation to run between two frames |"
   ]
  },
  {
   "cell_type": "code",
   "execution_count": null,
   "id": "20f9484f-17f7-427e-82c8-004bbe90c0c6",
   "metadata": {},
   "outputs": [],
   "source": [
    "config = {\n",
    "  \"align\": 64,\n",
    "  \"block_height\": 1, \n",
    "  \"block_width\": 1,\n",
    "  \"time_to_interpolate\": 2 \n",
    "}\n",
    "\n",
    "with open(f\"{frame_dir}/config.json\", \"w\") as f:\n",
    "  json.dump(config, f, indent=4)\n",
    "\n",
    "!ls {frame_dir}"
   ]
  },
  {
   "cell_type": "markdown",
   "id": "2faee793-e477-4212-a3e7-8ccaecf5d2de",
   "metadata": {},
   "source": [
    "Generate the `tar.gz` and upload to S3"
   ]
  },
  {
   "cell_type": "code",
   "execution_count": null,
   "id": "10d65908-dc91-4452-bcdb-eb0d93bdd240",
   "metadata": {
    "tags": []
   },
   "outputs": [],
   "source": [
    "frames_tarfile = helper.make_tar(frame_dir)\n",
    "\n",
    "input_s3_loc = sagemaker_session.upload_data(frames_tarfile, default_bucket, f\"{prefix}/input_frames\")\n",
    "\n",
    "print(f\"input file uploaded here --> {input_s3_loc}\")"
   ]
  },
  {
   "cell_type": "markdown",
   "id": "ae4d25c0-8393-4565-a0c9-98b0c9e21991",
   "metadata": {
    "tags": []
   },
   "source": [
    "### > Invoke the endpoint to trigger the inference job"
   ]
  },
  {
   "cell_type": "code",
   "execution_count": null,
   "id": "01c0cb72-17a1-4d3e-ab2b-f1bdd9b188dc",
   "metadata": {},
   "outputs": [],
   "source": [
    "response = sm_runtime.invoke_endpoint_async(\n",
    "    EndpointName=slow_mo_inference.endpoint_name,\n",
    "    InputLocation=input_s3_loc,\n",
    "    InvocationTimeoutSeconds=3600)"
   ]
  },
  {
   "cell_type": "markdown",
   "id": "373f5eda-c951-4c61-9c8b-6b106024469d",
   "metadata": {},
   "source": [
    "**WAIT FOR FRAME INTEPOLATION TO COMPLETE**\n",
    "\n",
    "Depends number of frames you need process, this could take a few minutes"
   ]
  },
  {
   "cell_type": "code",
   "execution_count": null,
   "id": "2bc119c7-770b-4c1c-8495-84c87ead7d66",
   "metadata": {
    "tags": []
   },
   "outputs": [],
   "source": [
    "# write a function that checks if a full s3 path to a file exist\n",
    "import boto3\n",
    "\n",
    "max_wait_time = 60 * 25 # 25 minutes\n",
    "current_wait_time = 0\n",
    "\n",
    "def check_s3_file_exists(s3_path):\n",
    "    # Split the S3 path into its components\n",
    "    s3_components = s3_path.replace(\"s3://\", \"\").split(\"/\")\n",
    "    bucket_name = s3_components[0]\n",
    "    file_key = \"/\".join(s3_components[1:])\n",
    "    \n",
    "    # Create an S3 client\n",
    "    s3 = boto3.client(\"s3\")\n",
    "    \n",
    "    # Check if the object exists\n",
    "    try:\n",
    "        s3.head_object(Bucket=bucket_name, Key=file_key)\n",
    "        return True\n",
    "    except:\n",
    "        return False\n",
    "\n",
    "status = \"Processing\"\n",
    "print(\"Status: \" + status)\n",
    "s3_path = response[\"OutputLocation\"]\n",
    "\n",
    "while status == \"Processing\":\n",
    "    time.sleep(60)\n",
    "    if check_s3_file_exists(s3_path):\n",
    "        status = \"Complete\"\n",
    "    current_wait_time += 60\n",
    "    if current_wait_time > max_wait_time:\n",
    "        status = \"Failed - Model did not complete in the expected time. Check the endpoint CloudWatch logs for more information.\"\n",
    "\n",
    "    print(\"Status: \" + status)"
   ]
  },
  {
   "cell_type": "markdown",
   "id": "f9a35541-298c-4abb-9e1e-858c61a9b131",
   "metadata": {
    "tags": []
   },
   "source": [
    "### > Generate Slow Mo Video\n",
    "\n",
    "Download and Assemble the frames"
   ]
  },
  {
   "cell_type": "code",
   "execution_count": null,
   "id": "0c6b6328-90fa-492a-9386-f7924ed43f01",
   "metadata": {
    "tags": []
   },
   "outputs": [],
   "source": [
    "output_file = \"output.json\"\n",
    "!aws s3 cp {response[\"OutputLocation\"]} {output_file}"
   ]
  },
  {
   "cell_type": "code",
   "execution_count": null,
   "id": "839e8fb0-bdb7-4d38-9504-5cd7b07198f7",
   "metadata": {
    "scrolled": true,
    "tags": []
   },
   "outputs": [],
   "source": [
    "# write a function that import and then load a json file int a dictionary\n",
    "def load_json_file(file_name):\n",
    "    with open(file_name) as f:\n",
    "        return json.load(f)\n",
    "    \n",
    "results = load_json_file(output_file)\n",
    "\n",
    "if results['status'] == \"SUCCESS\":\n",
    "\n",
    "    output_frames = \"slow-mo-frames\"\n",
    "\n",
    "    # Remove all files and folders\n",
    "    if os.path.exists(output_frames):\n",
    "        shutil.rmtree(output_frames)\n",
    "\n",
    "    # Recreate empty directory \n",
    "    os.makedirs(output_frames)\n",
    "    \n",
    "    # awscli to download a s3 file to a praticular filename\n",
    "    !aws s3 sync {results['output_location']} {output_frames}\n",
    "    \n",
    "    print(f\"Slow-Mo frames downloaded here: {output_frames}\")"
   ]
  },
  {
   "cell_type": "code",
   "execution_count": null,
   "id": "51c3dff9-43e9-4134-8bbf-1fb1e541a992",
   "metadata": {
    "tags": []
   },
   "outputs": [],
   "source": [
    "ouput_video = \"output.mp4\"\n",
    "\n",
    "helper.create_video(output_frames, #slow-mo frames\n",
    "                    ouput_video,   #generated video\n",
    "                    fr=2)         #frame rate of the video\n",
    " \n",
    "time.sleep(5)\n",
    "\n",
    "Video(ouput_video, width=640, height=360)"
   ]
  }
 ],
 "metadata": {
  "availableInstances": [
   {
    "_defaultOrder": 0,
    "_isFastLaunch": true,
    "category": "General purpose",
    "gpuNum": 0,
    "hideHardwareSpecs": false,
    "memoryGiB": 4,
    "name": "ml.t3.medium",
    "vcpuNum": 2
   },
   {
    "_defaultOrder": 1,
    "_isFastLaunch": false,
    "category": "General purpose",
    "gpuNum": 0,
    "hideHardwareSpecs": false,
    "memoryGiB": 8,
    "name": "ml.t3.large",
    "vcpuNum": 2
   },
   {
    "_defaultOrder": 2,
    "_isFastLaunch": false,
    "category": "General purpose",
    "gpuNum": 0,
    "hideHardwareSpecs": false,
    "memoryGiB": 16,
    "name": "ml.t3.xlarge",
    "vcpuNum": 4
   },
   {
    "_defaultOrder": 3,
    "_isFastLaunch": false,
    "category": "General purpose",
    "gpuNum": 0,
    "hideHardwareSpecs": false,
    "memoryGiB": 32,
    "name": "ml.t3.2xlarge",
    "vcpuNum": 8
   },
   {
    "_defaultOrder": 4,
    "_isFastLaunch": true,
    "category": "General purpose",
    "gpuNum": 0,
    "hideHardwareSpecs": false,
    "memoryGiB": 8,
    "name": "ml.m5.large",
    "vcpuNum": 2
   },
   {
    "_defaultOrder": 5,
    "_isFastLaunch": false,
    "category": "General purpose",
    "gpuNum": 0,
    "hideHardwareSpecs": false,
    "memoryGiB": 16,
    "name": "ml.m5.xlarge",
    "vcpuNum": 4
   },
   {
    "_defaultOrder": 6,
    "_isFastLaunch": false,
    "category": "General purpose",
    "gpuNum": 0,
    "hideHardwareSpecs": false,
    "memoryGiB": 32,
    "name": "ml.m5.2xlarge",
    "vcpuNum": 8
   },
   {
    "_defaultOrder": 7,
    "_isFastLaunch": false,
    "category": "General purpose",
    "gpuNum": 0,
    "hideHardwareSpecs": false,
    "memoryGiB": 64,
    "name": "ml.m5.4xlarge",
    "vcpuNum": 16
   },
   {
    "_defaultOrder": 8,
    "_isFastLaunch": false,
    "category": "General purpose",
    "gpuNum": 0,
    "hideHardwareSpecs": false,
    "memoryGiB": 128,
    "name": "ml.m5.8xlarge",
    "vcpuNum": 32
   },
   {
    "_defaultOrder": 9,
    "_isFastLaunch": false,
    "category": "General purpose",
    "gpuNum": 0,
    "hideHardwareSpecs": false,
    "memoryGiB": 192,
    "name": "ml.m5.12xlarge",
    "vcpuNum": 48
   },
   {
    "_defaultOrder": 10,
    "_isFastLaunch": false,
    "category": "General purpose",
    "gpuNum": 0,
    "hideHardwareSpecs": false,
    "memoryGiB": 256,
    "name": "ml.m5.16xlarge",
    "vcpuNum": 64
   },
   {
    "_defaultOrder": 11,
    "_isFastLaunch": false,
    "category": "General purpose",
    "gpuNum": 0,
    "hideHardwareSpecs": false,
    "memoryGiB": 384,
    "name": "ml.m5.24xlarge",
    "vcpuNum": 96
   },
   {
    "_defaultOrder": 12,
    "_isFastLaunch": false,
    "category": "General purpose",
    "gpuNum": 0,
    "hideHardwareSpecs": false,
    "memoryGiB": 8,
    "name": "ml.m5d.large",
    "vcpuNum": 2
   },
   {
    "_defaultOrder": 13,
    "_isFastLaunch": false,
    "category": "General purpose",
    "gpuNum": 0,
    "hideHardwareSpecs": false,
    "memoryGiB": 16,
    "name": "ml.m5d.xlarge",
    "vcpuNum": 4
   },
   {
    "_defaultOrder": 14,
    "_isFastLaunch": false,
    "category": "General purpose",
    "gpuNum": 0,
    "hideHardwareSpecs": false,
    "memoryGiB": 32,
    "name": "ml.m5d.2xlarge",
    "vcpuNum": 8
   },
   {
    "_defaultOrder": 15,
    "_isFastLaunch": false,
    "category": "General purpose",
    "gpuNum": 0,
    "hideHardwareSpecs": false,
    "memoryGiB": 64,
    "name": "ml.m5d.4xlarge",
    "vcpuNum": 16
   },
   {
    "_defaultOrder": 16,
    "_isFastLaunch": false,
    "category": "General purpose",
    "gpuNum": 0,
    "hideHardwareSpecs": false,
    "memoryGiB": 128,
    "name": "ml.m5d.8xlarge",
    "vcpuNum": 32
   },
   {
    "_defaultOrder": 17,
    "_isFastLaunch": false,
    "category": "General purpose",
    "gpuNum": 0,
    "hideHardwareSpecs": false,
    "memoryGiB": 192,
    "name": "ml.m5d.12xlarge",
    "vcpuNum": 48
   },
   {
    "_defaultOrder": 18,
    "_isFastLaunch": false,
    "category": "General purpose",
    "gpuNum": 0,
    "hideHardwareSpecs": false,
    "memoryGiB": 256,
    "name": "ml.m5d.16xlarge",
    "vcpuNum": 64
   },
   {
    "_defaultOrder": 19,
    "_isFastLaunch": false,
    "category": "General purpose",
    "gpuNum": 0,
    "hideHardwareSpecs": false,
    "memoryGiB": 384,
    "name": "ml.m5d.24xlarge",
    "vcpuNum": 96
   },
   {
    "_defaultOrder": 20,
    "_isFastLaunch": false,
    "category": "General purpose",
    "gpuNum": 0,
    "hideHardwareSpecs": true,
    "memoryGiB": 0,
    "name": "ml.geospatial.interactive",
    "supportedImageNames": [
     "sagemaker-geospatial-v1-0"
    ],
    "vcpuNum": 0
   },
   {
    "_defaultOrder": 21,
    "_isFastLaunch": true,
    "category": "Compute optimized",
    "gpuNum": 0,
    "hideHardwareSpecs": false,
    "memoryGiB": 4,
    "name": "ml.c5.large",
    "vcpuNum": 2
   },
   {
    "_defaultOrder": 22,
    "_isFastLaunch": false,
    "category": "Compute optimized",
    "gpuNum": 0,
    "hideHardwareSpecs": false,
    "memoryGiB": 8,
    "name": "ml.c5.xlarge",
    "vcpuNum": 4
   },
   {
    "_defaultOrder": 23,
    "_isFastLaunch": false,
    "category": "Compute optimized",
    "gpuNum": 0,
    "hideHardwareSpecs": false,
    "memoryGiB": 16,
    "name": "ml.c5.2xlarge",
    "vcpuNum": 8
   },
   {
    "_defaultOrder": 24,
    "_isFastLaunch": false,
    "category": "Compute optimized",
    "gpuNum": 0,
    "hideHardwareSpecs": false,
    "memoryGiB": 32,
    "name": "ml.c5.4xlarge",
    "vcpuNum": 16
   },
   {
    "_defaultOrder": 25,
    "_isFastLaunch": false,
    "category": "Compute optimized",
    "gpuNum": 0,
    "hideHardwareSpecs": false,
    "memoryGiB": 72,
    "name": "ml.c5.9xlarge",
    "vcpuNum": 36
   },
   {
    "_defaultOrder": 26,
    "_isFastLaunch": false,
    "category": "Compute optimized",
    "gpuNum": 0,
    "hideHardwareSpecs": false,
    "memoryGiB": 96,
    "name": "ml.c5.12xlarge",
    "vcpuNum": 48
   },
   {
    "_defaultOrder": 27,
    "_isFastLaunch": false,
    "category": "Compute optimized",
    "gpuNum": 0,
    "hideHardwareSpecs": false,
    "memoryGiB": 144,
    "name": "ml.c5.18xlarge",
    "vcpuNum": 72
   },
   {
    "_defaultOrder": 28,
    "_isFastLaunch": false,
    "category": "Compute optimized",
    "gpuNum": 0,
    "hideHardwareSpecs": false,
    "memoryGiB": 192,
    "name": "ml.c5.24xlarge",
    "vcpuNum": 96
   },
   {
    "_defaultOrder": 29,
    "_isFastLaunch": true,
    "category": "Accelerated computing",
    "gpuNum": 1,
    "hideHardwareSpecs": false,
    "memoryGiB": 16,
    "name": "ml.g4dn.xlarge",
    "vcpuNum": 4
   },
   {
    "_defaultOrder": 30,
    "_isFastLaunch": false,
    "category": "Accelerated computing",
    "gpuNum": 1,
    "hideHardwareSpecs": false,
    "memoryGiB": 32,
    "name": "ml.g4dn.2xlarge",
    "vcpuNum": 8
   },
   {
    "_defaultOrder": 31,
    "_isFastLaunch": false,
    "category": "Accelerated computing",
    "gpuNum": 1,
    "hideHardwareSpecs": false,
    "memoryGiB": 64,
    "name": "ml.g4dn.4xlarge",
    "vcpuNum": 16
   },
   {
    "_defaultOrder": 32,
    "_isFastLaunch": false,
    "category": "Accelerated computing",
    "gpuNum": 1,
    "hideHardwareSpecs": false,
    "memoryGiB": 128,
    "name": "ml.g4dn.8xlarge",
    "vcpuNum": 32
   },
   {
    "_defaultOrder": 33,
    "_isFastLaunch": false,
    "category": "Accelerated computing",
    "gpuNum": 4,
    "hideHardwareSpecs": false,
    "memoryGiB": 192,
    "name": "ml.g4dn.12xlarge",
    "vcpuNum": 48
   },
   {
    "_defaultOrder": 34,
    "_isFastLaunch": false,
    "category": "Accelerated computing",
    "gpuNum": 1,
    "hideHardwareSpecs": false,
    "memoryGiB": 256,
    "name": "ml.g4dn.16xlarge",
    "vcpuNum": 64
   },
   {
    "_defaultOrder": 35,
    "_isFastLaunch": false,
    "category": "Accelerated computing",
    "gpuNum": 1,
    "hideHardwareSpecs": false,
    "memoryGiB": 61,
    "name": "ml.p3.2xlarge",
    "vcpuNum": 8
   },
   {
    "_defaultOrder": 36,
    "_isFastLaunch": false,
    "category": "Accelerated computing",
    "gpuNum": 4,
    "hideHardwareSpecs": false,
    "memoryGiB": 244,
    "name": "ml.p3.8xlarge",
    "vcpuNum": 32
   },
   {
    "_defaultOrder": 37,
    "_isFastLaunch": false,
    "category": "Accelerated computing",
    "gpuNum": 8,
    "hideHardwareSpecs": false,
    "memoryGiB": 488,
    "name": "ml.p3.16xlarge",
    "vcpuNum": 64
   },
   {
    "_defaultOrder": 38,
    "_isFastLaunch": false,
    "category": "Accelerated computing",
    "gpuNum": 8,
    "hideHardwareSpecs": false,
    "memoryGiB": 768,
    "name": "ml.p3dn.24xlarge",
    "vcpuNum": 96
   },
   {
    "_defaultOrder": 39,
    "_isFastLaunch": false,
    "category": "Memory Optimized",
    "gpuNum": 0,
    "hideHardwareSpecs": false,
    "memoryGiB": 16,
    "name": "ml.r5.large",
    "vcpuNum": 2
   },
   {
    "_defaultOrder": 40,
    "_isFastLaunch": false,
    "category": "Memory Optimized",
    "gpuNum": 0,
    "hideHardwareSpecs": false,
    "memoryGiB": 32,
    "name": "ml.r5.xlarge",
    "vcpuNum": 4
   },
   {
    "_defaultOrder": 41,
    "_isFastLaunch": false,
    "category": "Memory Optimized",
    "gpuNum": 0,
    "hideHardwareSpecs": false,
    "memoryGiB": 64,
    "name": "ml.r5.2xlarge",
    "vcpuNum": 8
   },
   {
    "_defaultOrder": 42,
    "_isFastLaunch": false,
    "category": "Memory Optimized",
    "gpuNum": 0,
    "hideHardwareSpecs": false,
    "memoryGiB": 128,
    "name": "ml.r5.4xlarge",
    "vcpuNum": 16
   },
   {
    "_defaultOrder": 43,
    "_isFastLaunch": false,
    "category": "Memory Optimized",
    "gpuNum": 0,
    "hideHardwareSpecs": false,
    "memoryGiB": 256,
    "name": "ml.r5.8xlarge",
    "vcpuNum": 32
   },
   {
    "_defaultOrder": 44,
    "_isFastLaunch": false,
    "category": "Memory Optimized",
    "gpuNum": 0,
    "hideHardwareSpecs": false,
    "memoryGiB": 384,
    "name": "ml.r5.12xlarge",
    "vcpuNum": 48
   },
   {
    "_defaultOrder": 45,
    "_isFastLaunch": false,
    "category": "Memory Optimized",
    "gpuNum": 0,
    "hideHardwareSpecs": false,
    "memoryGiB": 512,
    "name": "ml.r5.16xlarge",
    "vcpuNum": 64
   },
   {
    "_defaultOrder": 46,
    "_isFastLaunch": false,
    "category": "Memory Optimized",
    "gpuNum": 0,
    "hideHardwareSpecs": false,
    "memoryGiB": 768,
    "name": "ml.r5.24xlarge",
    "vcpuNum": 96
   },
   {
    "_defaultOrder": 47,
    "_isFastLaunch": false,
    "category": "Accelerated computing",
    "gpuNum": 1,
    "hideHardwareSpecs": false,
    "memoryGiB": 16,
    "name": "ml.g5.xlarge",
    "vcpuNum": 4
   },
   {
    "_defaultOrder": 48,
    "_isFastLaunch": false,
    "category": "Accelerated computing",
    "gpuNum": 1,
    "hideHardwareSpecs": false,
    "memoryGiB": 32,
    "name": "ml.g5.2xlarge",
    "vcpuNum": 8
   },
   {
    "_defaultOrder": 49,
    "_isFastLaunch": false,
    "category": "Accelerated computing",
    "gpuNum": 1,
    "hideHardwareSpecs": false,
    "memoryGiB": 64,
    "name": "ml.g5.4xlarge",
    "vcpuNum": 16
   },
   {
    "_defaultOrder": 50,
    "_isFastLaunch": false,
    "category": "Accelerated computing",
    "gpuNum": 1,
    "hideHardwareSpecs": false,
    "memoryGiB": 128,
    "name": "ml.g5.8xlarge",
    "vcpuNum": 32
   },
   {
    "_defaultOrder": 51,
    "_isFastLaunch": false,
    "category": "Accelerated computing",
    "gpuNum": 1,
    "hideHardwareSpecs": false,
    "memoryGiB": 256,
    "name": "ml.g5.16xlarge",
    "vcpuNum": 64
   },
   {
    "_defaultOrder": 52,
    "_isFastLaunch": false,
    "category": "Accelerated computing",
    "gpuNum": 4,
    "hideHardwareSpecs": false,
    "memoryGiB": 192,
    "name": "ml.g5.12xlarge",
    "vcpuNum": 48
   },
   {
    "_defaultOrder": 53,
    "_isFastLaunch": false,
    "category": "Accelerated computing",
    "gpuNum": 4,
    "hideHardwareSpecs": false,
    "memoryGiB": 384,
    "name": "ml.g5.24xlarge",
    "vcpuNum": 96
   },
   {
    "_defaultOrder": 54,
    "_isFastLaunch": false,
    "category": "Accelerated computing",
    "gpuNum": 8,
    "hideHardwareSpecs": false,
    "memoryGiB": 768,
    "name": "ml.g5.48xlarge",
    "vcpuNum": 192
   },
   {
    "_defaultOrder": 55,
    "_isFastLaunch": false,
    "category": "Accelerated computing",
    "gpuNum": 8,
    "hideHardwareSpecs": false,
    "memoryGiB": 1152,
    "name": "ml.p4d.24xlarge",
    "vcpuNum": 96
   },
   {
    "_defaultOrder": 56,
    "_isFastLaunch": false,
    "category": "Accelerated computing",
    "gpuNum": 8,
    "hideHardwareSpecs": false,
    "memoryGiB": 1152,
    "name": "ml.p4de.24xlarge",
    "vcpuNum": 96
   },
   {
    "_defaultOrder": 57,
    "_isFastLaunch": false,
    "category": "Accelerated computing",
    "gpuNum": 0,
    "hideHardwareSpecs": false,
    "memoryGiB": 32,
    "name": "ml.trn1.2xlarge",
    "vcpuNum": 8
   },
   {
    "_defaultOrder": 58,
    "_isFastLaunch": false,
    "category": "Accelerated computing",
    "gpuNum": 0,
    "hideHardwareSpecs": false,
    "memoryGiB": 512,
    "name": "ml.trn1.32xlarge",
    "vcpuNum": 128
   },
   {
    "_defaultOrder": 59,
    "_isFastLaunch": false,
    "category": "Accelerated computing",
    "gpuNum": 0,
    "hideHardwareSpecs": false,
    "memoryGiB": 512,
    "name": "ml.trn1n.32xlarge",
    "vcpuNum": 128
   }
  ],
  "instance_type": "ml.g5.4xlarge",
  "kernelspec": {
   "display_name": "Python 3 (ipykernel)",
   "language": "python",
   "name": "python3"
  },
  "language_info": {
   "codemirror_mode": {
    "name": "ipython",
    "version": 3
   },
   "file_extension": ".py",
   "mimetype": "text/x-python",
   "name": "python",
   "nbconvert_exporter": "python",
   "pygments_lexer": "ipython3",
   "version": "3.10.13"
  }
 },
 "nbformat": 4,
 "nbformat_minor": 5
}
